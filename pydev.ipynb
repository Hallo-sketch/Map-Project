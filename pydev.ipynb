{
 "cells": [
  {
   "cell_type": "code",
   "execution_count": 1,
   "metadata": {},
   "outputs": [],
   "source": [
    "import xarray as xr\n",
    "import zarr\n",
    "import os\n",
    "\n",
    "def netcdf4_to_zarr(input_file, output_folder):\n",
    "    # Open the NetCDF4 file\n",
    "    ds = xr.open_dataset(input_file)\n",
    "\n",
    "    # Create output folder if it doesn't exist\n",
    "    os.makedirs(output_folder, exist_ok=True)\n",
    "\n",
    "    # Prepare the output file name\n",
    "    output_file = os.path.join(output_folder, 'output.zarr')\n",
    "\n",
    "    # Convert to Zarr\n",
    "    ds.to_zarr(output_file, mode='w')\n",
    "\n",
    "    print(f\"Converted {input_file} to Zarr: {output_file}\")\n",
    "\n",
    "    # Close the dataset\n",
    "    ds.close()"
   ]
  },
  {
   "cell_type": "code",
   "execution_count": 2,
   "metadata": {},
   "outputs": [
    {
     "name": "stdout",
     "output_type": "stream",
     "text": [
      "Converted Data/CROPGRIDSv1.08_cocoa.nc to Zarr: Processed Data/output.zarr\n"
     ]
    }
   ],
   "source": [
    "input_file = \"Data/CROPGRIDSv1.08_cocoa.nc\"\n",
    "output_folder = \"Processed Data\"\n",
    "netcdf4_to_zarr(input_file, output_folder)"
   ]
  }
 ],
 "metadata": {
  "kernelspec": {
   "display_name": "map",
   "language": "python",
   "name": "python3"
  },
  "language_info": {
   "codemirror_mode": {
    "name": "ipython",
    "version": 3
   },
   "file_extension": ".py",
   "mimetype": "text/x-python",
   "name": "python",
   "nbconvert_exporter": "python",
   "pygments_lexer": "ipython3",
   "version": "3.11.10"
  }
 },
 "nbformat": 4,
 "nbformat_minor": 2
}
